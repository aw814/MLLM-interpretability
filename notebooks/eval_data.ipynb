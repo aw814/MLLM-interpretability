{
 "cells": [
  {
   "cell_type": "code",
   "execution_count": 4,
   "id": "e6d02ae2",
   "metadata": {},
   "outputs": [
    {
     "name": "stdout",
     "output_type": "stream",
     "text": [
      "   tgt_lang  overall_success  knowledge_transfer  n_QA\n",
      "0        ko         0.461538            0.580645    39\n",
      "1        it         0.538462            0.677419    39\n",
      "2        zh         0.538462            0.677419    39\n",
      "3        hi         0.435897            0.548387    39\n",
      "4        he         0.435897            0.548387    39\n",
      "5        en         0.794872            1.000000    39\n",
      "6        ja         0.512821            0.645161    39\n",
      "7        id         0.589744            0.741935    39\n",
      "8        es         0.538462            0.677419    39\n",
      "9        pt         0.641026            0.806452    39\n",
      "10       fr         0.641026            0.806452    39\n",
      "11       de         0.589744            0.741935    39\n"
     ]
    }
   ],
   "source": [
    "from pathlib import Path\n",
    "import json\n",
    "import pandas as pd\n",
    "\n",
    "# Path to your folder\n",
    "folder = Path(\"../eval/artifacts\")\n",
    "\n",
    "rows = []\n",
    "for p in folder.glob(\"*_metrics.json\"):\n",
    "    stem = p.stem  # filename without suffix\n",
    "    tgt_lang = stem.rsplit(\"_metrics\", 1)[0]\n",
    "\n",
    "    with p.open(\"r\", encoding=\"utf-8\") as fh:\n",
    "        data = json.load(fh)\n",
    "        row = {\n",
    "            \"tgt_lang\": tgt_lang,\n",
    "            \"overall_success\": data.get(\"overall_success\"),\n",
    "            \"knowledge_transfer\": data.get(\"transfer\"),\n",
    "            \"n_QA\": data.get(\"n_items\"),  # adjusted to match JSON key\n",
    "        }\n",
    "        rows.append(row)\n",
    "\n",
    "# Convert to DataFrame\n",
    "df = pd.DataFrame(rows)\n",
    "print(df)"
   ]
  },
  {
   "cell_type": "code",
   "execution_count": 5,
   "id": "9e3ee082",
   "metadata": {},
   "outputs": [],
   "source": [
    "df.to_csv(folder / \"all_metrics_summary.csv\", index=False)"
   ]
  },
  {
   "cell_type": "code",
   "execution_count": null,
   "id": "0bb81d0d",
   "metadata": {},
   "outputs": [],
   "source": []
  }
 ],
 "metadata": {
  "kernelspec": {
   "display_name": ".venv",
   "language": "python",
   "name": "python3"
  },
  "language_info": {
   "codemirror_mode": {
    "name": "ipython",
    "version": 3
   },
   "file_extension": ".py",
   "mimetype": "text/x-python",
   "name": "python",
   "nbconvert_exporter": "python",
   "pygments_lexer": "ipython3",
   "version": "3.12.4"
  }
 },
 "nbformat": 4,
 "nbformat_minor": 5
}
